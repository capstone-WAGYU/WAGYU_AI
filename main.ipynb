{
 "cells": [
  {
   "cell_type": "markdown",
   "id": "a5dae3e9",
   "metadata": {},
   "source": [
    "### Phi3-4K-mini 모델불러오기"
   ]
  },
  {
   "cell_type": "code",
   "execution_count": 6,
   "id": "a2cd764d",
   "metadata": {},
   "outputs": [
    {
     "name": "stderr",
     "output_type": "stream",
     "text": [
      "Loading checkpoint shards: 100%|██████████| 2/2 [00:00<00:00, 27.78it/s]\n"
     ]
    },
    {
     "name": "stdout",
     "output_type": "stream",
     "text": [
      "I'm sorry to hear that your dog has been vomiting. Vomiting can be caused by a variety of factors, including dietary indiscretion (eating something they shouldn't have), infections, parasites, or more serious conditions like pancreatitis or gastrointestinal obstruction. It's important to monitor your dog closely. If the vomiting persists, is accompanied by other symptoms like diarrhea, lethargy, or loss of appetite, or if your dog seems to be in distress, it's crucial to seek veterinary care immediately. In the meantime, ensure your dog has access to fresh water and try to keep them calm and comfortable.<|end|>\n"
     ]
    }
   ],
   "source": [
    "# Load model directly\n",
    "from transformers import AutoTokenizer, AutoModelForCausalLM\n",
    "\n",
    "tokenizer = AutoTokenizer.from_pretrained(\"microsoft/Phi-3-mini-4k-instruct\")\n",
    "model = AutoModelForCausalLM.from_pretrained(\"microsoft/Phi-3-mini-4k-instruct\", torch_dtype = \"auto\",  trust_remote_code=False)\n",
    "messages = [\n",
    "    {\"role\": \"user\", \"content\": \"My dog vomitted since yesterday with no reason\"},\n",
    "]\n",
    "inputs = tokenizer.apply_chat_template(\n",
    "\tmessages,\n",
    "\tadd_generation_prompt=True,\n",
    "\ttokenize=True,\n",
    "\treturn_dict=True,\n",
    "\treturn_tensors=\"pt\",\n",
    ").to(model.device)\n",
    "\n",
    "outputs = model.generate(**inputs, max_new_tokens=416)\n",
    "print(tokenizer.decode(outputs[0][inputs[\"input_ids\"].shape[-1]:]))\n"
   ]
  },
  {
   "cell_type": "code",
   "execution_count": null,
   "id": "fd0fc474",
   "metadata": {},
   "outputs": [],
   "source": [
    "%pip install -U \"transformers>=4.45\" accelerate safetensors"
   ]
  },
  {
   "cell_type": "code",
   "execution_count": null,
   "id": "07dfaf45",
   "metadata": {},
   "outputs": [],
   "source": []
  }
 ],
 "metadata": {
  "kernelspec": {
   "display_name": "Python 3",
   "language": "python",
   "name": "python3"
  },
  "language_info": {
   "codemirror_mode": {
    "name": "ipython",
    "version": 3
   },
   "file_extension": ".py",
   "mimetype": "text/x-python",
   "name": "python",
   "nbconvert_exporter": "python",
   "pygments_lexer": "ipython3",
   "version": "3.11.6"
  }
 },
 "nbformat": 4,
 "nbformat_minor": 5
}
