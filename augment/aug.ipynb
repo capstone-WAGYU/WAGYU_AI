{
 "cells": [
  {
   "cell_type": "markdown",
   "id": "02df207f",
   "metadata": {},
   "source": [
    "Mecab 사용을 위한 konlpy 라이브러리 설치"
   ]
  },
  {
   "cell_type": "code",
<<<<<<< HEAD
   "execution_count": 2,
   "id": "4778e0b1",
   "metadata": {},
   "outputs": [
    {
     "name": "stdout",
     "output_type": "stream",
     "text": [
      "Requirement already satisfied: konlpy in c:\\users\\user\\anaconda3\\lib\\site-packages (0.6.0)\n",
      "Requirement already satisfied: JPype1>=0.7.0 in c:\\users\\user\\anaconda3\\lib\\site-packages (from konlpy) (1.5.2)\n",
      "Requirement already satisfied: lxml>=4.1.0 in c:\\users\\user\\anaconda3\\lib\\site-packages (from konlpy) (5.3.1)\n",
      "Requirement already satisfied: numpy>=1.6 in c:\\users\\user\\anaconda3\\lib\\site-packages (from konlpy) (1.26.4)\n",
      "Requirement already satisfied: packaging in c:\\users\\user\\anaconda3\\lib\\site-packages (from JPype1>=0.7.0->konlpy) (24.2)\n",
      "Note: you may need to restart the kernel to use updated packages.\n"
     ]
    }
   ],
=======
   "execution_count": null,
   "id": "4778e0b1",
   "metadata": {},
   "outputs": [],
>>>>>>> 659dc71 (feature: 랜덤스왑구현)
   "source": [
    "%pip install konlpy"
   ]
  },
  {
   "cell_type": "markdown",
   "id": "b6cb6d1b",
   "metadata": {},
   "source": [
    "Mecab - 형태소 분석기"
   ]
  },
  {
   "cell_type": "code",
<<<<<<< HEAD
   "execution_count": 2,
   "id": "2472dadf",
   "metadata": {},
   "outputs": [
    {
     "ename": "Exception",
     "evalue": "Install MeCab in order to use it: http://konlpy.org/en/latest/install/",
     "output_type": "error",
     "traceback": [
      "\u001b[31m---------------------------------------------------------------------------\u001b[39m",
      "\u001b[31mNameError\u001b[39m                                 Traceback (most recent call last)",
      "\u001b[36mFile \u001b[39m\u001b[32mc:\\Users\\User\\anaconda3\\Lib\\site-packages\\konlpy\\tag\\_mecab.py:77\u001b[39m, in \u001b[36mMecab.__init__\u001b[39m\u001b[34m(self, dicpath)\u001b[39m\n\u001b[32m     76\u001b[39m \u001b[38;5;28;01mtry\u001b[39;00m:\n\u001b[32m---> \u001b[39m\u001b[32m77\u001b[39m     \u001b[38;5;28mself\u001b[39m.tagger = \u001b[43mTagger\u001b[49m(\u001b[33m'\u001b[39m\u001b[33m-d \u001b[39m\u001b[38;5;132;01m%s\u001b[39;00m\u001b[33m'\u001b[39m % dicpath)\n\u001b[32m     78\u001b[39m     \u001b[38;5;28mself\u001b[39m.tagset = utils.read_json(\u001b[33m'\u001b[39m\u001b[38;5;132;01m%s\u001b[39;00m\u001b[33m/data/tagset/mecab.json\u001b[39m\u001b[33m'\u001b[39m % utils.installpath)\n",
      "\u001b[31mNameError\u001b[39m: name 'Tagger' is not defined",
      "\nDuring handling of the above exception, another exception occurred:\n",
      "\u001b[31mException\u001b[39m                                 Traceback (most recent call last)",
      "\u001b[36mCell\u001b[39m\u001b[36m \u001b[39m\u001b[32mIn[2]\u001b[39m\u001b[32m, line 4\u001b[39m\n\u001b[32m      2\u001b[39m \u001b[38;5;28;01mimport\u001b[39;00m\u001b[38;5;250m \u001b[39m\u001b[34;01mrandom\u001b[39;00m\n\u001b[32m      3\u001b[39m \u001b[38;5;28;01mfrom\u001b[39;00m\u001b[38;5;250m \u001b[39m\u001b[34;01mkonlpy\u001b[39;00m\u001b[34;01m.\u001b[39;00m\u001b[34;01mtag\u001b[39;00m\u001b[38;5;250m \u001b[39m\u001b[38;5;28;01mimport\u001b[39;00m Mecab\n\u001b[32m----> \u001b[39m\u001b[32m4\u001b[39m m = \u001b[43mMecab\u001b[49m\u001b[43m(\u001b[49m\u001b[43m)\u001b[49m\n\u001b[32m      5\u001b[39m \u001b[38;5;28;01mdef\u001b[39;00m\u001b[38;5;250m \u001b[39m\u001b[34mrandom_swap\u001b[39m(text, n, seed = \u001b[38;5;28;01mNone\u001b[39;00m):\n\u001b[32m      6\u001b[39m     tokens = m.morphs(text)\n",
      "\u001b[36mFile \u001b[39m\u001b[32mc:\\Users\\User\\anaconda3\\Lib\\site-packages\\konlpy\\tag\\_mecab.py:82\u001b[39m, in \u001b[36mMecab.__init__\u001b[39m\u001b[34m(self, dicpath)\u001b[39m\n\u001b[32m     80\u001b[39m     \u001b[38;5;28;01mraise\u001b[39;00m \u001b[38;5;167;01mException\u001b[39;00m(\u001b[33m'\u001b[39m\u001b[33mThe MeCab dictionary does not exist at \u001b[39m\u001b[33m\"\u001b[39m\u001b[38;5;132;01m%s\u001b[39;00m\u001b[33m\"\u001b[39m\u001b[33m. Is the dictionary correctly installed?\u001b[39m\u001b[38;5;130;01m\\n\u001b[39;00m\u001b[33mYou can also try entering the dictionary path when initializing the Mecab class: \u001b[39m\u001b[33m\"\u001b[39m\u001b[33mMecab(\u001b[39m\u001b[38;5;130;01m\\'\u001b[39;00m\u001b[33m/some/dic/path\u001b[39m\u001b[38;5;130;01m\\'\u001b[39;00m\u001b[33m)\u001b[39m\u001b[33m\"\u001b[39m\u001b[33m'\u001b[39m % dicpath)\n\u001b[32m     81\u001b[39m \u001b[38;5;28;01mexcept\u001b[39;00m \u001b[38;5;167;01mNameError\u001b[39;00m:\n\u001b[32m---> \u001b[39m\u001b[32m82\u001b[39m     \u001b[38;5;28;01mraise\u001b[39;00m \u001b[38;5;167;01mException\u001b[39;00m(\u001b[33m'\u001b[39m\u001b[33mInstall MeCab in order to use it: http://konlpy.org/en/latest/install/\u001b[39m\u001b[33m'\u001b[39m)\n",
      "\u001b[31mException\u001b[39m: Install MeCab in order to use it: http://konlpy.org/en/latest/install/"
     ]
    }
   ],
=======
   "execution_count": null,
   "id": "2472dadf",
   "metadata": {},
   "outputs": [],
>>>>>>> 659dc71 (feature: 랜덤스왑구현)
   "source": [
    "# 랜덤 스왑\n",
    "import random\n",
    "from konlpy.tag import Mecab\n",
<<<<<<< HEAD
    "m = Mecab()\n",
    "def random_swap(text, n, seed = None):\n",
    "    tokens = m.morphs(text)\n",
=======
    "def random_swap(text, n, seed = None):\n",
    "    tokens = Mecab().morphs(text)\n",
>>>>>>> 659dc71 (feature: 랜덤스왑구현)
    "    if seed is not None:\n",
    "        random.seed(seed)\n",
    "    length = len(tokens)\n",
    "    for i in range(n): # 여기서 스왑할 단어 골라서\n",
    "        idx_1, idx_2 = random.sample(range(length), 2) # idx 얘네들한테 저장시키고\n",
    "        tokens[idx_1], tokens[idx_2] = tokens[idx_2], tokens[idx_1] # 스왑하는 구문인듯\n",
    "    return ' '.join(tokens)\n",
    "\n",
    "text = \"저는 데이터 증강을 공부하고 있습니다.\"\n",
    "print(random_swap(text, n = 2, seed = 42))"
   ]
  },
  {
   "cell_type": "code",
<<<<<<< HEAD
   "execution_count": 3,
   "id": "c50748b3",
   "metadata": {},
   "outputs": [
    {
     "name": "stdout",
     "output_type": "stream",
     "text": [
      "Requirement already satisfied: pip in c:\\users\\a8269\\appdata\\local\\programs\\python\\python311\\lib\\site-packages (25.2)\n",
      "Note: you may need to restart the kernel to use updated packages.\n",
      "Note: you may need to restart the kernel to use updated packages.\n"
     ]
    },
    {
     "name": "stderr",
     "output_type": "stream",
     "text": [
      "WARNING: Requirement 'JPype1-0.5.7-cp27-none-win_amd64.whl' looks like a filename, but the file does not exist\n",
      "ERROR: JPype1-0.5.7-cp27-none-win_amd64.whl is not a supported wheel on this platform.\n"
     ]
    }
   ],
=======
   "execution_count": null,
   "id": "c50748b3",
   "metadata": {},
   "outputs": [],
>>>>>>> 659dc71 (feature: 랜덤스왑구현)
   "source": [
    "%pip install --upgrade pip\n",
    "%pip install JPype1-0.5.7-cp27-none-win_amd64.whl"
   ]
  },
  {
   "cell_type": "code",
<<<<<<< HEAD
   "execution_count": 4,
=======
   "execution_count": 2,
>>>>>>> 659dc71 (feature: 랜덤스왑구현)
   "id": "0cf498cc",
   "metadata": {},
   "outputs": [
    {
     "name": "stdout",
     "output_type": "stream",
     "text": [
<<<<<<< HEAD
      "['개', '가', '물', '많이', '마시고', '게워내요']\n"
=======
      "[('개', 'Noun'), ('가', 'Josa'), ('물', 'Noun'), ('많이', 'Adverb'), ('마시고', 'Verb'), ('게워내요', 'Verb')]\n"
>>>>>>> 659dc71 (feature: 랜덤스왑구현)
     ]
    }
   ],
   "source": [
    "from konlpy.tag import Okt\n",
    "import json\n",
    "with open('통합_데이터셋.json', 'r', encoding = 'utf-8') as f:\n",
    "    data = json.load(f)\n",
    "m = Okt()\n",
<<<<<<< HEAD
    "print(m.morphs(data[0]['question']))"
=======
    "print(m.pos(data[0]['question']))"
   ]
  },
  {
   "cell_type": "markdown",
   "id": "6c713add",
   "metadata": {},
   "source": [
    "### Mecab 안되는거같으니까 Okt로 랜덤스왑해봄"
   ]
  },
  {
   "cell_type": "code",
   "execution_count": 1,
   "id": "ad7f98ea",
   "metadata": {},
   "outputs": [
    {
     "name": "stdout",
     "output_type": "stream",
     "text": [
      "물 개 게워내요 많이 마시고 가\n"
     ]
    }
   ],
   "source": [
    "import json, random\n",
    "from konlpy.tag import Okt\n",
    "m = Okt()\n",
    "def random_swap(text, n, seed = None):\n",
    "    tokens = m.morphs(text)\n",
    "    if seed is not None:\n",
    "        random.seed(seed)\n",
    "    length = len(tokens)\n",
    "    for i in range(n): # 여기서 스왑할 단어 골라서\n",
    "        idx_1, idx_2 = random.sample(range(length), 2) # idx 얘네들한테 저장시키고\n",
    "        tokens[idx_1], tokens[idx_2] = tokens[idx_2], tokens[idx_1] # 스왑하는 구문인듯\n",
    "    return ' '.join(tokens)\n",
    "with open('통합_데이터셋.json', 'r', encoding = 'utf-8') as f:\n",
    "    text = json.load(f)\n",
    "print(random_swap(text[0]['question'], n = 3, seed = 42))"
   ]
  },
  {
   "cell_type": "markdown",
   "id": "539b348c",
   "metadata": {},
   "source": [
    "조사가 떨어지니까 의미 왜곡이 쉬울거같음\n",
    "\n",
    "앞에단어랑 붙이던가 아님걍빼던가 해야할거같은데\n",
    "\n",
    "붙일거면 앞에명사에 붙이고"
>>>>>>> 659dc71 (feature: 랜덤스왑구현)
   ]
  },
  {
   "cell_type": "code",
   "execution_count": null,
<<<<<<< HEAD
   "id": "ad7f98ea",
=======
   "id": "ffd72547",
>>>>>>> 659dc71 (feature: 랜덤스왑구현)
   "metadata": {},
   "outputs": [],
   "source": []
  }
 ],
 "metadata": {
  "kernelspec": {
   "display_name": "base",
   "language": "python",
   "name": "python3"
  },
  "language_info": {
   "codemirror_mode": {
    "name": "ipython",
    "version": 3
   },
   "file_extension": ".py",
   "mimetype": "text/x-python",
   "name": "python",
   "nbconvert_exporter": "python",
   "pygments_lexer": "ipython3",
   "version": "3.11.7"
  }
 },
 "nbformat": 4,
 "nbformat_minor": 5
}
